{
 "cells": [
  {
   "cell_type": "markdown",
   "metadata": {},
   "source": [
    "## Finding Images and using WordNet\n",
    "\n",
    "This notebook will demonstrate loading images from google image search and using WordNet to find similar words."
   ]
  },
  {
   "cell_type": "code",
   "execution_count": 1,
   "metadata": {},
   "outputs": [],
   "source": [
    "import compsyn\n",
    "import os"
   ]
  },
  {
   "cell_type": "markdown",
   "metadata": {},
   "source": [
    "The ```compsyn.helperfunctions``` file contains helper functions to download files and to use NLTKs wordnet to find extra search terms."
   ]
  },
  {
   "cell_type": "code",
   "execution_count": 2,
   "metadata": {},
   "outputs": [],
   "source": [
    "from compsyn.helperfunctions import settings, search_and_download, run_google_vision, write_img_classifications_to_file"
   ]
  },
  {
   "cell_type": "code",
   "execution_count": null,
   "metadata": {},
   "outputs": [],
   "source": [
    "from compsyn.wordnet_functions import get_wordnet_tree_data"
   ]
  },
  {
   "cell_type": "markdown",
   "metadata": {},
   "source": [
    "### Settings"
   ]
  },
  {
   "cell_type": "code",
   "execution_count": 3,
   "metadata": {},
   "outputs": [],
   "source": [
    "GOOGLE_APPLICATION_CREDENTIALS = \"compsyn3-8cf6580619a9.json\""
   ]
  },
  {
   "cell_type": "code",
   "execution_count": 4,
   "metadata": {},
   "outputs": [],
   "source": [
    "DRIVER_PATH = \"/Users/bhargavvader/open_source/comp-syn/chromedriver\""
   ]
  },
  {
   "cell_type": "code",
   "execution_count": 5,
   "metadata": {},
   "outputs": [],
   "source": [
    "settings(GOOGLE_APPLICATION_CREDENTIALS, DRIVER_PATH)"
   ]
  },
  {
   "cell_type": "code",
   "execution_count": 6,
   "metadata": {},
   "outputs": [],
   "source": [
    "number_images = 100 \n",
    "search_terms = ['emotion']\n",
    "filter_data = True\n",
    "get_tree_data = True"
   ]
  },
  {
   "cell_type": "markdown",
   "metadata": {},
   "source": [
    "### Get WordNet data"
   ]
  },
  {
   "cell_type": "code",
   "execution_count": 7,
   "metadata": {},
   "outputs": [],
   "source": [
    "home = os.getcwd()"
   ]
  },
  {
   "cell_type": "code",
   "execution_count": 8,
   "metadata": {},
   "outputs": [],
   "source": [
    "n_categories = 10"
   ]
  },
  {
   "cell_type": "code",
   "execution_count": 9,
   "metadata": {},
   "outputs": [
    {
     "name": "stdout",
     "output_type": "stream",
     "text": [
      "Adding Search Terms from Tree\n",
      "  ref_term                        new_term     role  \\\n",
      "0  emotion                           anger  hyponym   \n",
      "1  emotion                         anxiety  hyponym   \n",
      "2  emotion  conditioned_emotional_response  hyponym   \n",
      "3  emotion                 emotional_state  hyponym   \n",
      "4  emotion                            fear  hyponym   \n",
      "\n",
      "                                          synset Branch_fact Num_senses  \n",
      "0                           Synset('anger.n.01')          19          5  \n",
      "1                         Synset('anxiety.n.02')           6          2  \n",
      "2  Synset('conditioned_emotional_response.n.01')           1          1  \n",
      "3                 Synset('emotional_state.n.01')          16          1  \n",
      "4                            Synset('fear.n.01')          25          8  \n"
     ]
    }
   ],
   "source": [
    "if get_tree_data: \n",
    "    print(\"Adding Search Terms from Tree\")\n",
    "    tree_search_terms, raw_tree, all_tree_data = get_wordnet_tree_data(search_terms, home)\n",
    "    search_terms = tree_search_terms[:n_categories]\n",
    "    print(all_tree_data.head())"
   ]
  },
  {
   "cell_type": "code",
   "execution_count": 10,
   "metadata": {},
   "outputs": [
    {
     "data": {
      "text/plain": [
       "['emotion',\n",
       " 'anxiety',\n",
       " 'anger',\n",
       " 'love',\n",
       " 'feeling',\n",
       " 'emotional state',\n",
       " 'conditioned emotional response',\n",
       " 'joy',\n",
       " 'hate',\n",
       " 'fear']"
      ]
     },
     "execution_count": 10,
     "metadata": {},
     "output_type": "execute_result"
    }
   ],
   "source": [
    "tree_search_terms"
   ]
  },
  {
   "cell_type": "code",
   "execution_count": 11,
   "metadata": {},
   "outputs": [
    {
     "data": {
      "text/plain": [
       "['emotion',\n",
       " 'anxiety',\n",
       " 'anger',\n",
       " 'love',\n",
       " 'feeling',\n",
       " 'emotional state',\n",
       " 'conditioned emotional response',\n",
       " 'joy',\n",
       " 'hate',\n",
       " 'fear']"
      ]
     },
     "execution_count": 11,
     "metadata": {},
     "output_type": "execute_result"
    }
   ],
   "source": [
    "search_terms"
   ]
  },
  {
   "cell_type": "markdown",
   "metadata": {},
   "source": [
    "We might want to remove the elements from the list which won't have clear images."
   ]
  },
  {
   "cell_type": "code",
   "execution_count": 12,
   "metadata": {},
   "outputs": [
    {
     "data": {
      "text/plain": [
       "'emotional state'"
      ]
     },
     "execution_count": 12,
     "metadata": {},
     "output_type": "execute_result"
    }
   ],
   "source": [
    "search_terms.pop(5)"
   ]
  },
  {
   "cell_type": "code",
   "execution_count": 13,
   "metadata": {},
   "outputs": [
    {
     "data": {
      "text/plain": [
       "'conditioned emotional response'"
      ]
     },
     "execution_count": 13,
     "metadata": {},
     "output_type": "execute_result"
    }
   ],
   "source": [
    "search_terms.pop(5)"
   ]
  },
  {
   "cell_type": "markdown",
   "metadata": {},
   "source": [
    "### Download Images"
   ]
  },
  {
   "cell_type": "code",
   "execution_count": null,
   "metadata": {},
   "outputs": [],
   "source": [
    "img_urls_dict = {}\n",
    "for search_term in search_terms:\n",
    "    print(search_term)\n",
    "    urls = search_and_download(search_term = search_term, driver_path = DRIVER_PATH, home = home, number_images = number_images)\n",
    "    img_urls_dict[search_term] = urls"
   ]
  },
  {
   "cell_type": "markdown",
   "metadata": {},
   "source": [
    "### Run Google Vision Filter "
   ]
  },
  {
   "cell_type": "code",
   "execution_count": null,
   "metadata": {},
   "outputs": [],
   "source": [
    "if filter_data: \n",
    "    img_classified_dict = run_google_vision(img_urls_dict)\n",
    "    write_img_classifications_to_file(home, search_terms, img_classified_dict)"
   ]
  },
  {
   "cell_type": "markdown",
   "metadata": {},
   "source": [
    "You should now have the top 100 images of each of the elements of 'search_term' saved on your machine: you can now run the analysis presented in the ```compsyn_package_pipeline```. Note that "
   ]
  }
 ],
 "metadata": {
  "kernelspec": {
   "display_name": "Python 3",
   "language": "python",
   "name": "python3"
  },
  "language_info": {
   "codemirror_mode": {
    "name": "ipython",
    "version": 3
   },
   "file_extension": ".py",
   "mimetype": "text/x-python",
   "name": "python",
   "nbconvert_exporter": "python",
   "pygments_lexer": "ipython3",
   "version": "3.7.6"
  }
 },
 "nbformat": 4,
 "nbformat_minor": 4
}
