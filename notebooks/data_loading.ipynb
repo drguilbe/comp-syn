{
 "cells": [
  {
   "cell_type": "markdown",
   "metadata": {},
   "source": [
    "## Finding Images and using WordNet\n",
    "\n",
    "This notebook will demonstrate loading images from google image search and using WordNet to find similar words."
   ]
  },
  {
   "cell_type": "code",
   "execution_count": 1,
   "metadata": {},
   "outputs": [],
   "source": [
    "import compsyn\n",
    "import os"
   ]
  },
  {
   "cell_type": "markdown",
   "metadata": {},
   "source": [
    "The ```compsyn.helperfunctions``` file contains helper functions to download files and to use NLTKs wordnet to find extra search terms."
   ]
  },
  {
   "cell_type": "code",
   "execution_count": 2,
   "metadata": {},
   "outputs": [],
   "source": [
    "from compsyn.helperfunctions import settings, search_and_download, run_google_vision, write_img_classifications_to_file"
   ]
  },
  {
   "cell_type": "code",
   "execution_count": 3,
   "metadata": {},
   "outputs": [],
   "source": [
    "from compsyn.wordnet_functions import get_wordnet_tree_data"
   ]
  },
  {
   "cell_type": "markdown",
   "metadata": {},
   "source": [
    "### Settings"
   ]
  },
  {
   "cell_type": "code",
   "execution_count": 4,
   "metadata": {},
   "outputs": [],
   "source": [
    "GOOGLE_APPLICATION_CREDENTIALS = \"compsyn3-8cf6580619a9.json\""
   ]
  },
  {
   "cell_type": "code",
   "execution_count": 5,
   "metadata": {},
   "outputs": [],
   "source": [
    "DRIVER_PATH = \"/usr/local/bin/chromedriver\""
   ]
  },
  {
   "cell_type": "code",
   "execution_count": 6,
   "metadata": {},
   "outputs": [],
   "source": [
    "settings(\n",
    "    application_cred_name = GOOGLE_APPLICATION_CREDENTIALS, \n",
    "    driver_browser = \"Chrome\",\n",
    "    driver_executable_path = DRIVER_PATH,\n",
    "    driver_options = [\"--headless\"]\n",
    ")"
   ]
  },
  {
   "cell_type": "code",
   "execution_count": 7,
   "metadata": {},
   "outputs": [],
   "source": [
    "number_images = 100 \n",
    "search_terms = ['emotion']\n",
    "filter_data = True\n",
    "get_tree_data = True"
   ]
  },
  {
   "cell_type": "markdown",
   "metadata": {},
   "source": [
    "### Get WordNet data"
   ]
  },
  {
   "cell_type": "code",
   "execution_count": 8,
   "metadata": {},
   "outputs": [],
   "source": [
    "home = os.getcwd()"
   ]
  },
  {
   "cell_type": "code",
   "execution_count": 9,
   "metadata": {},
   "outputs": [],
   "source": [
    "n_categories = 10"
   ]
  },
  {
   "cell_type": "code",
   "execution_count": 10,
   "metadata": {},
   "outputs": [
    {
     "name": "stdout",
     "output_type": "stream",
     "text": [
      "Adding Search Terms from Tree\n",
      "  ref_term                        new_term     role  \\\n",
      "0  emotion                           anger  hyponym   \n",
      "1  emotion                         anxiety  hyponym   \n",
      "2  emotion  conditioned_emotional_response  hyponym   \n",
      "3  emotion                 emotional_state  hyponym   \n",
      "4  emotion                            fear  hyponym   \n",
      "\n",
      "                                          synset Branch_fact Num_senses  \n",
      "0                           Synset('anger.n.01')          19          5  \n",
      "1                         Synset('anxiety.n.02')           6          2  \n",
      "2  Synset('conditioned_emotional_response.n.01')           1          1  \n",
      "3                 Synset('emotional_state.n.01')          16          1  \n",
      "4                            Synset('fear.n.01')          25          8  \n"
     ]
    }
   ],
   "source": [
    "if get_tree_data: \n",
    "    print(\"Adding Search Terms from Tree\")\n",
    "    tree_search_terms, raw_tree, all_tree_data = get_wordnet_tree_data(search_terms, home)\n",
    "    search_terms = tree_search_terms[:n_categories]\n",
    "    print(all_tree_data.head())"
   ]
  },
  {
   "cell_type": "code",
   "execution_count": 11,
   "metadata": {},
   "outputs": [
    {
     "data": {
      "text/plain": [
       "['emotion',\n",
       " 'joy',\n",
       " 'feeling',\n",
       " 'anxiety',\n",
       " 'conditioned emotional response',\n",
       " 'fear',\n",
       " 'love',\n",
       " 'hate',\n",
       " 'emotional state',\n",
       " 'anger']"
      ]
     },
     "execution_count": 11,
     "metadata": {},
     "output_type": "execute_result"
    }
   ],
   "source": [
    "tree_search_terms"
   ]
  },
  {
   "cell_type": "code",
   "execution_count": 12,
   "metadata": {},
   "outputs": [
    {
     "data": {
      "text/plain": [
       "['emotion',\n",
       " 'joy',\n",
       " 'feeling',\n",
       " 'anxiety',\n",
       " 'conditioned emotional response',\n",
       " 'fear',\n",
       " 'love',\n",
       " 'hate',\n",
       " 'emotional state',\n",
       " 'anger']"
      ]
     },
     "execution_count": 12,
     "metadata": {},
     "output_type": "execute_result"
    }
   ],
   "source": [
    "search_terms"
   ]
  },
  {
   "cell_type": "markdown",
   "metadata": {},
   "source": [
    "We might want to remove the elements from the list which won't have clear images."
   ]
  },
  {
   "cell_type": "code",
   "execution_count": 13,
   "metadata": {},
   "outputs": [
    {
     "data": {
      "text/plain": [
       "'conditioned emotional response'"
      ]
     },
     "execution_count": 13,
     "metadata": {},
     "output_type": "execute_result"
    }
   ],
   "source": [
    "search_terms.pop(4)"
   ]
  },
  {
   "cell_type": "code",
   "execution_count": 14,
   "metadata": {},
   "outputs": [
    {
     "data": {
      "text/plain": [
       "'emotional state'"
      ]
     },
     "execution_count": 14,
     "metadata": {},
     "output_type": "execute_result"
    }
   ],
   "source": [
    "search_terms.pop(-2)"
   ]
  },
  {
   "cell_type": "markdown",
   "metadata": {},
   "source": [
    "### Download Images"
   ]
  },
  {
   "cell_type": "code",
   "execution_count": 15,
   "metadata": {},
   "outputs": [
    {
     "name": "stdout",
     "output_type": "stream",
     "text": [
      "emotion\n",
      "[2020-05-18 01:13:36,405] (compsyn.fetch_image_urls)  INFO: Found: 200 search results. Extracting links from 0:200\n",
      "[2020-05-18 01:14:14,527] (compsyn.fetch_image_urls)  INFO: Found: 100 image links, done!\n",
      "[2020-05-18 01:14:32,211] (compsyn.save_image)  ERROR: Could not save image to disk: cannot identify image file <_io.BytesIO object at 0x1468fd040>\n",
      "[2020-05-18 01:14:33,083] (compsyn.save_image)  ERROR: Could not save image to disk: cannot identify image file <_io.BytesIO object at 0x14b2c2770>\n",
      "joy\n",
      "[2020-05-18 01:14:37,831] (compsyn.fetch_image_urls)  INFO: Found: 200 search results. Extracting links from 0:200\n",
      "[2020-05-18 01:15:20,334] (compsyn.fetch_image_urls)  INFO: Found: 100 image links, done!\n"
     ]
    },
    {
     "name": "stderr",
     "output_type": "stream",
     "text": [
      "/Users/tasker/Library/Caches/pypoetry/virtualenvs/compsyn-Sgn_5FUG-py3.8/lib/python3.8/site-packages/PIL/Image.py:959: UserWarning: Palette images with Transparency expressed in bytes should be converted to RGBA images\n",
      "  warnings.warn(\n"
     ]
    },
    {
     "name": "stdout",
     "output_type": "stream",
     "text": [
      "[2020-05-18 01:15:31,247] (compsyn.save_image)  ERROR: Could not save image to disk: cannot identify image file <_io.BytesIO object at 0x14b2ce310>\n",
      "[2020-05-18 01:15:34,737] (compsyn.save_image)  ERROR: Could not save image to disk: cannot identify image file <_io.BytesIO object at 0x14b2ce310>\n",
      "[2020-05-18 01:15:35,895] (compsyn.save_image)  ERROR: Could not save image to disk: cannot identify image file <_io.BytesIO object at 0x14b2ce310>\n",
      "feeling\n",
      "[2020-05-18 01:15:40,580] (compsyn.fetch_image_urls)  INFO: Found: 200 search results. Extracting links from 0:200\n",
      "[2020-05-18 01:16:19,258] (compsyn.fetch_image_urls)  INFO: Found: 100 image links, done!\n",
      "[2020-05-18 01:16:22,517] (compsyn.save_image)  ERROR: Could not save image to disk: cannot identify image file <_io.BytesIO object at 0x14b2d4130>\n",
      "[2020-05-18 01:16:24,722] (compsyn.save_image)  ERROR: Could not save image to disk: cannot identify image file <_io.BytesIO object at 0x14b2d4130>\n",
      "[2020-05-18 01:16:26,108] (compsyn.save_image)  ERROR: Could not save image to disk: cannot identify image file <_io.BytesIO object at 0x14b2d4130>\n",
      "anxiety\n",
      "[2020-05-18 01:16:36,562] (compsyn.fetch_image_urls)  INFO: Found: 200 search results. Extracting links from 0:200\n",
      "[2020-05-18 01:17:19,173] (compsyn.fetch_image_urls)  INFO: Found: 100 image links, done!\n",
      "fear\n",
      "[2020-05-18 01:17:34,789] (compsyn.fetch_image_urls)  INFO: Found: 200 search results. Extracting links from 0:200\n",
      "[2020-05-18 01:18:12,398] (compsyn.fetch_image_urls)  INFO: Found: 100 image links, done!\n",
      "[2020-05-18 01:18:14,060] (compsyn.save_image)  ERROR: Could not save image to disk: cannot identify image file <_io.BytesIO object at 0x1468b1ea0>\n",
      "[2020-05-18 01:18:18,424] (compsyn.save_image)  ERROR: Could not save image to disk: cannot identify image file <_io.BytesIO object at 0x14b383c70>\n",
      "[2020-05-18 01:18:20,420] (compsyn.save_image)  ERROR: Could not save image to disk: cannot identify image file <_io.BytesIO object at 0x14b383c70>\n",
      "love\n",
      "[2020-05-18 01:18:29,144] (compsyn.fetch_image_urls)  INFO: Found: 100 search results. Extracting links from 0:100\n",
      "[2020-05-18 01:19:06,484] (compsyn.fetch_image_urls)  INFO: Found: 100 image links, done!\n",
      "[2020-05-18 01:19:12,238] (compsyn.save_image)  ERROR: Could not save image to disk: cannot identify image file <_io.BytesIO object at 0x14b383c70>\n",
      "[2020-05-18 01:19:14,183] (compsyn.save_image)  ERROR: Could not save image to disk: cannot identify image file <_io.BytesIO object at 0x14b2c27c0>\n",
      "hate\n",
      "[2020-05-18 01:19:22,903] (compsyn.fetch_image_urls)  INFO: Found: 200 search results. Extracting links from 0:200\n",
      "[2020-05-18 01:20:01,371] (compsyn.fetch_image_urls)  INFO: Found: 100 image links, done!\n",
      "[2020-05-18 01:20:04,230] (compsyn.save_image)  ERROR: Could not save image to disk: cannot identify image file <_io.BytesIO object at 0x14b369d10>\n",
      "[2020-05-18 01:20:15,095] (compsyn.save_image)  ERROR: Could not save image to disk: cannot identify image file <_io.BytesIO object at 0x1468fd810>\n",
      "anger\n",
      "[2020-05-18 01:20:24,000] (compsyn.fetch_image_urls)  INFO: Found: 100 search results. Extracting links from 0:100\n",
      "[2020-05-18 01:21:02,999] (compsyn.fetch_image_urls)  INFO: Found: 100 image links, done!\n",
      "[2020-05-18 01:21:03,554] (compsyn.save_image)  ERROR: Could not save image to disk: cannot identify image file <_io.BytesIO object at 0x14b2d4220>\n",
      "[2020-05-18 01:21:03,774] (compsyn.save_image)  ERROR: Could not save image to disk: cannot identify image file <_io.BytesIO object at 0x14b413450>\n",
      "[2020-05-18 01:21:11,999] (compsyn.save_image)  ERROR: Could not save image to disk: cannot identify image file <_io.BytesIO object at 0x14b413b30>\n"
     ]
    }
   ],
   "source": [
    "img_urls_dict = {}\n",
    "for search_term in search_terms:\n",
    "    print(search_term)\n",
    "    urls = search_and_download(\n",
    "        search_term = search_term, \n",
    "        driver_browser = \"Chrome\",\n",
    "        driver_executable_path = DRIVER_PATH, \n",
    "        driver_options = [\"--headless\"],\n",
    "        home = home, \n",
    "        number_images = number_images\n",
    "    )\n",
    "    img_urls_dict[search_term] = urls"
   ]
  },
  {
   "cell_type": "markdown",
   "metadata": {},
   "source": [
    "### Run Google Vision Filter "
   ]
  },
  {
   "cell_type": "code",
   "execution_count": null,
   "metadata": {},
   "outputs": [
    {
     "name": "stdout",
     "output_type": "stream",
     "text": [
      "[2020-05-18 01:22:41,666] (compsyn.run_google_vision)  INFO: Classifying Imgs. w. Google Vision API...\n"
     ]
    }
   ],
   "source": [
    "if filter_data: \n",
    "    img_classified_dict = run_google_vision(img_urls_dict)\n",
    "    write_img_classifications_to_file(home, search_terms, img_classified_dict)"
   ]
  },
  {
   "cell_type": "markdown",
   "metadata": {},
   "source": [
    "You should now have the top 100 images of each of the elements of 'search_term' saved on your machine: you can now run the analysis presented in the ```compsyn_package_pipeline```."
   ]
  }
 ],
 "metadata": {
  "kernelspec": {
   "display_name": "Python 3",
   "language": "python",
   "name": "python3"
  },
  "language_info": {
   "codemirror_mode": {
    "name": "ipython",
    "version": 3
   },
   "file_extension": ".py",
   "mimetype": "text/x-python",
   "name": "python",
   "nbconvert_exporter": "python",
   "pygments_lexer": "ipython3",
   "version": "3.8.2"
  }
 },
 "nbformat": 4,
 "nbformat_minor": 4
}
